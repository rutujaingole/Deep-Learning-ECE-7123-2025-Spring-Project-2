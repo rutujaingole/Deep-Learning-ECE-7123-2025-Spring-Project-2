{
 "cells": [
  {
   "cell_type": "markdown",
   "id": "c4a3f04d-2514-4ece-adaf-7c134e8d661a",
   "metadata": {},
   "source": [
    "## Install and import required libraries"
   ]
  },
  {
   "cell_type": "code",
   "execution_count": 1,
   "id": "7b0715b1-9cce-4935-85a3-57ce78679d3c",
   "metadata": {
    "colab": {
     "base_uri": "https://localhost:8080/",
     "height": 1000
    },
    "id": "7b0715b1-9cce-4935-85a3-57ce78679d3c",
    "outputId": "495cf447-216d-4e4a-a776-14eca76baa9a"
   },
   "outputs": [
    {
     "name": "stdout",
     "output_type": "stream",
     "text": [
      "Defaulting to user installation because normal site-packages is not writeable\n",
      "Requirement already satisfied: transformers in ./.local/lib/python3.9/site-packages (4.51.3)\n",
      "Requirement already satisfied: datasets in ./.local/lib/python3.9/site-packages (3.5.0)\n",
      "Requirement already satisfied: evaluate in ./.local/lib/python3.9/site-packages (0.4.3)\n",
      "Requirement already satisfied: accelerate in ./.local/lib/python3.9/site-packages (1.6.0)\n",
      "Requirement already satisfied: peft in ./.local/lib/python3.9/site-packages (0.15.1)\n",
      "Requirement already satisfied: trl in ./.local/lib/python3.9/site-packages (0.16.1)\n",
      "Requirement already satisfied: bitsandbytes in ./.local/lib/python3.9/site-packages (0.45.5)\n",
      "Requirement already satisfied: filelock in ./.local/lib/python3.9/site-packages (from transformers) (3.17.0)\n",
      "Requirement already satisfied: huggingface-hub<1.0,>=0.30.0 in ./.local/lib/python3.9/site-packages (from transformers) (0.30.1)\n",
      "Requirement already satisfied: numpy>=1.17 in ./.local/lib/python3.9/site-packages (from transformers) (2.0.2)\n",
      "Requirement already satisfied: packaging>=20.0 in ./.local/lib/python3.9/site-packages (from transformers) (24.2)\n",
      "Requirement already satisfied: pyyaml>=5.1 in ./.local/lib/python3.9/site-packages (from transformers) (6.0.2)\n",
      "Requirement already satisfied: regex!=2019.12.17 in ./.local/lib/python3.9/site-packages (from transformers) (2024.11.6)\n",
      "Requirement already satisfied: requests in ./.local/lib/python3.9/site-packages (from transformers) (2.32.3)\n",
      "Requirement already satisfied: tokenizers<0.22,>=0.21 in ./.local/lib/python3.9/site-packages (from transformers) (0.21.1)\n",
      "Requirement already satisfied: safetensors>=0.4.3 in ./.local/lib/python3.9/site-packages (from transformers) (0.5.3)\n",
      "Requirement already satisfied: tqdm>=4.27 in ./.local/lib/python3.9/site-packages (from transformers) (4.67.1)\n",
      "Requirement already satisfied: pyarrow>=15.0.0 in ./.local/lib/python3.9/site-packages (from datasets) (19.0.1)\n",
      "Requirement already satisfied: dill<0.3.9,>=0.3.0 in ./.local/lib/python3.9/site-packages (from datasets) (0.3.8)\n",
      "Requirement already satisfied: pandas in ./.local/lib/python3.9/site-packages (from datasets) (2.2.3)\n",
      "Requirement already satisfied: xxhash in ./.local/lib/python3.9/site-packages (from datasets) (3.5.0)\n",
      "Requirement already satisfied: multiprocess<0.70.17 in ./.local/lib/python3.9/site-packages (from datasets) (0.70.16)\n",
      "Requirement already satisfied: fsspec<=2024.12.0,>=2023.1.0 in ./.local/lib/python3.9/site-packages (from fsspec[http]<=2024.12.0,>=2023.1.0->datasets) (2024.12.0)\n",
      "Requirement already satisfied: aiohttp in ./.local/lib/python3.9/site-packages (from datasets) (3.11.16)\n",
      "Requirement already satisfied: psutil in ./.local/lib/python3.9/site-packages (from accelerate) (7.0.0)\n",
      "Requirement already satisfied: torch>=2.0.0 in ./.local/lib/python3.9/site-packages (from accelerate) (2.6.0)\n",
      "Requirement already satisfied: rich in ./.local/lib/python3.9/site-packages (from trl) (13.9.4)\n",
      "Requirement already satisfied: aiohappyeyeballs>=2.3.0 in ./.local/lib/python3.9/site-packages (from aiohttp->datasets) (2.6.1)\n",
      "Requirement already satisfied: aiosignal>=1.1.2 in ./.local/lib/python3.9/site-packages (from aiohttp->datasets) (1.3.2)\n",
      "Requirement already satisfied: async-timeout<6.0,>=4.0 in ./.local/lib/python3.9/site-packages (from aiohttp->datasets) (5.0.1)\n",
      "Requirement already satisfied: attrs>=17.3.0 in ./.local/lib/python3.9/site-packages (from aiohttp->datasets) (25.1.0)\n",
      "Requirement already satisfied: frozenlist>=1.1.1 in ./.local/lib/python3.9/site-packages (from aiohttp->datasets) (1.5.0)\n",
      "Requirement already satisfied: multidict<7.0,>=4.5 in ./.local/lib/python3.9/site-packages (from aiohttp->datasets) (6.4.3)\n",
      "Requirement already satisfied: propcache>=0.2.0 in ./.local/lib/python3.9/site-packages (from aiohttp->datasets) (0.3.1)\n",
      "Requirement already satisfied: yarl<2.0,>=1.17.0 in ./.local/lib/python3.9/site-packages (from aiohttp->datasets) (1.19.0)\n",
      "Requirement already satisfied: typing-extensions>=3.7.4.3 in ./.local/lib/python3.9/site-packages (from huggingface-hub<1.0,>=0.30.0->transformers) (4.12.2)\n",
      "Requirement already satisfied: charset-normalizer<4,>=2 in ./.local/lib/python3.9/site-packages (from requests->transformers) (3.4.1)\n",
      "Requirement already satisfied: idna<4,>=2.5 in /share/apps/pyenv/py3.9/lib/python3.9/site-packages (from requests->transformers) (2.10)\n",
      "Requirement already satisfied: urllib3<3,>=1.21.1 in /share/apps/pyenv/py3.9/lib/python3.9/site-packages (from requests->transformers) (1.26.6)\n",
      "Requirement already satisfied: certifi>=2017.4.17 in ./.local/lib/python3.9/site-packages (from requests->transformers) (2025.1.31)\n",
      "Requirement already satisfied: networkx in ./.local/lib/python3.9/site-packages (from torch>=2.0.0->accelerate) (3.2.1)\n",
      "Requirement already satisfied: jinja2 in ./.local/lib/python3.9/site-packages (from torch>=2.0.0->accelerate) (3.1.5)\n",
      "Requirement already satisfied: nvidia-cuda-nvrtc-cu12==12.4.127 in ./.local/lib/python3.9/site-packages (from torch>=2.0.0->accelerate) (12.4.127)\n",
      "Requirement already satisfied: nvidia-cuda-runtime-cu12==12.4.127 in ./.local/lib/python3.9/site-packages (from torch>=2.0.0->accelerate) (12.4.127)\n",
      "Requirement already satisfied: nvidia-cuda-cupti-cu12==12.4.127 in ./.local/lib/python3.9/site-packages (from torch>=2.0.0->accelerate) (12.4.127)\n",
      "Requirement already satisfied: nvidia-cudnn-cu12==9.1.0.70 in ./.local/lib/python3.9/site-packages (from torch>=2.0.0->accelerate) (9.1.0.70)\n",
      "Requirement already satisfied: nvidia-cublas-cu12==12.4.5.8 in ./.local/lib/python3.9/site-packages (from torch>=2.0.0->accelerate) (12.4.5.8)\n",
      "Requirement already satisfied: nvidia-cufft-cu12==11.2.1.3 in ./.local/lib/python3.9/site-packages (from torch>=2.0.0->accelerate) (11.2.1.3)\n",
      "Requirement already satisfied: nvidia-curand-cu12==10.3.5.147 in ./.local/lib/python3.9/site-packages (from torch>=2.0.0->accelerate) (10.3.5.147)\n",
      "Requirement already satisfied: nvidia-cusolver-cu12==11.6.1.9 in ./.local/lib/python3.9/site-packages (from torch>=2.0.0->accelerate) (11.6.1.9)\n",
      "Requirement already satisfied: nvidia-cusparse-cu12==12.3.1.170 in ./.local/lib/python3.9/site-packages (from torch>=2.0.0->accelerate) (12.3.1.170)\n",
      "Requirement already satisfied: nvidia-cusparselt-cu12==0.6.2 in ./.local/lib/python3.9/site-packages (from torch>=2.0.0->accelerate) (0.6.2)\n",
      "Requirement already satisfied: nvidia-nccl-cu12==2.21.5 in ./.local/lib/python3.9/site-packages (from torch>=2.0.0->accelerate) (2.21.5)\n",
      "Requirement already satisfied: nvidia-nvtx-cu12==12.4.127 in ./.local/lib/python3.9/site-packages (from torch>=2.0.0->accelerate) (12.4.127)\n",
      "Requirement already satisfied: nvidia-nvjitlink-cu12==12.4.127 in ./.local/lib/python3.9/site-packages (from torch>=2.0.0->accelerate) (12.4.127)\n",
      "Requirement already satisfied: triton==3.2.0 in ./.local/lib/python3.9/site-packages (from torch>=2.0.0->accelerate) (3.2.0)\n",
      "Requirement already satisfied: sympy==1.13.1 in ./.local/lib/python3.9/site-packages (from torch>=2.0.0->accelerate) (1.13.1)\n",
      "Requirement already satisfied: mpmath<1.4,>=1.1.0 in ./.local/lib/python3.9/site-packages (from sympy==1.13.1->torch>=2.0.0->accelerate) (1.3.0)\n",
      "Requirement already satisfied: python-dateutil>=2.8.2 in ./.local/lib/python3.9/site-packages (from pandas->datasets) (2.9.0.post0)\n",
      "Requirement already satisfied: pytz>=2020.1 in ./.local/lib/python3.9/site-packages (from pandas->datasets) (2025.1)\n",
      "Requirement already satisfied: tzdata>=2022.7 in ./.local/lib/python3.9/site-packages (from pandas->datasets) (2025.1)\n",
      "Requirement already satisfied: markdown-it-py>=2.2.0 in ./.local/lib/python3.9/site-packages (from rich->trl) (3.0.0)\n",
      "Requirement already satisfied: pygments<3.0.0,>=2.13.0 in ./.local/lib/python3.9/site-packages (from rich->trl) (2.19.1)\n",
      "Requirement already satisfied: mdurl~=0.1 in ./.local/lib/python3.9/site-packages (from markdown-it-py>=2.2.0->rich->trl) (0.1.2)\n",
      "Requirement already satisfied: six>=1.5 in /share/apps/pyenv/py3.9/lib/python3.9/site-packages (from python-dateutil>=2.8.2->pandas->datasets) (1.16.0)\n",
      "Requirement already satisfied: MarkupSafe>=2.0 in ./.local/lib/python3.9/site-packages (from jinja2->torch>=2.0.0->accelerate) (3.0.2)\n",
      "Defaulting to user installation because normal site-packages is not writeable\n",
      "Requirement already satisfied: nvidia-ml-py3 in ./.local/lib/python3.9/site-packages (7.352.0)\n"
     ]
    }
   ],
   "source": [
    "!pip install transformers datasets evaluate accelerate peft trl bitsandbytes\n",
    "!pip install nvidia-ml-py3\n",
    "import os\n",
    "os.environ[\"WANDB_DISABLED\"] = \"true\"  # disable wandb logging\n"
   ]
  },
  {
   "cell_type": "code",
   "execution_count": 2,
   "id": "348ceed6-b684-46c3-8a32-9bb640c9a9d7",
   "metadata": {
    "id": "348ceed6-b684-46c3-8a32-9bb640c9a9d7"
   },
   "outputs": [],
   "source": [
    "import torch\n",
    "import numpy as np\n",
    "import pandas as pd\n",
    "\n",
    "from datasets import load_dataset, Dataset\n",
    "from transformers import (\n",
    "    AutoTokenizer,\n",
    "    AutoModelForSequenceClassification,\n",
    "    TrainingArguments,\n",
    "    DataCollatorWithPadding,\n",
    "    Trainer\n",
    ")\n",
    "from peft import LoraConfig, get_peft_model\n",
    "from sklearn.metrics import accuracy_score\n",
    "import torch.nn as nn\n"
   ]
  },
  {
   "cell_type": "markdown",
   "id": "1a79020f-f82c-4096-84ed-e31dc8424121",
   "metadata": {},
   "source": [
    "################################################################################\n",
    "## 2. Load the AG News Dataset and Inspect Data\n",
    "################################################################################"
   ]
  },
  {
   "cell_type": "code",
   "execution_count": 3,
   "id": "cca64f38-d8d2-4313-8295-fbbd43c2a263",
   "metadata": {
    "colab": {
     "base_uri": "https://localhost:8080/"
    },
    "id": "cca64f38-d8d2-4313-8295-fbbd43c2a263",
    "outputId": "c85702c9-3939-4335-da2d-7e128efd37b7"
   },
   "outputs": [
    {
     "name": "stdout",
     "output_type": "stream",
     "text": [
      "Number of training examples: 120000\n",
      "Sample training example:\n",
      "{'text': \"Wall St. Bears Claw Back Into the Black (Reuters) Reuters - Short-sellers, Wall Street's dwindling\\\\band of ultra-cynics, are seeing green again.\", 'label': 2}\n"
     ]
    }
   ],
   "source": [
    "# Load the \"train\" split from AG News (over 120K articles)\n",
    "dataset = load_dataset(\"ag_news\", split=\"train\")\n",
    "print(f\"Number of training examples: {len(dataset)}\")\n",
    "print(\"Sample training example:\")\n",
    "print(dataset[0])\n",
    "# Expected columns: \"text\" and \"label\"\n"
   ]
  },
  {
   "cell_type": "markdown",
   "id": "bb0bf68f-1176-41d4-9959-3fd3fabfee45",
   "metadata": {},
   "source": [
    "################################################################################\n",
    "## 3. Compute Token‑Length Stats & Choose max_length\n",
    "################################################################################"
   ]
  },
  {
   "cell_type": "code",
   "execution_count": 4,
   "id": "10578fd4-b85c-4ddc-9d27-97fb091a3e64",
   "metadata": {
    "colab": {
     "base_uri": "https://localhost:8080/"
    },
    "id": "10578fd4-b85c-4ddc-9d27-97fb091a3e64",
    "outputId": "da7b27b0-21fe-4edb-ed10-c87ff23e6f97"
   },
   "outputs": [
    {
     "name": "stderr",
     "output_type": "stream",
     "text": [
      "Some weights of RobertaForSequenceClassification were not initialized from the model checkpoint at roberta-base and are newly initialized: ['classifier.dense.bias', 'classifier.dense.weight', 'classifier.out_proj.bias', 'classifier.out_proj.weight']\n",
      "You should probably TRAIN this model on a down-stream task to be able to use it for predictions and inference.\n"
     ]
    },
    {
     "name": "stdout",
     "output_type": "stream",
     "text": [
      "Token lengths — mean: 57.3, std: 27.3\n",
      "Setting max_length = 111\n"
     ]
    }
   ],
   "source": [
    "from transformers import AutoConfig, AutoModelForSequenceClassification\n",
    "\n",
    "tokenizer = AutoTokenizer.from_pretrained(\"roberta-base\")\n",
    "config = AutoConfig.from_pretrained(\"roberta-base\", num_labels=4)\n",
    "base_model = AutoModelForSequenceClassification.from_pretrained(\"roberta-base\", config=config)\n",
    "\n",
    "def length_fn(examples):\n",
    "    return {\"lengths\": [len(tokenizer(x)[\"input_ids\"]) for x in examples[\"text\"]]}\n",
    "\n",
    "sample = dataset.select(range(1000))\n",
    "stats = sample.map(length_fn, batched=True)\n",
    "lengths = stats[\"lengths\"]\n",
    "mean_len, std_len = np.mean(lengths), np.std(lengths)\n",
    "max_length = int(mean_len + 2 * std_len)\n",
    "print(f\"Token lengths — mean: {mean_len:.1f}, std: {std_len:.1f}\")\n",
    "print(f\"Setting max_length = {max_length}\")\n"
   ]
  },
  {
   "cell_type": "markdown",
   "id": "4438e378-7985-4956-a6aa-8ebf5a5036b0",
   "metadata": {},
   "source": [
    "\n",
    "################################################################################\n",
    "## 4. Tokenization & Preprocessing for Training\n",
    "################################################################################"
   ]
  },
  {
   "cell_type": "code",
   "execution_count": 5,
   "id": "20b9de8e-ccb4-4889-9598-a64a9fbd6d04",
   "metadata": {
    "colab": {
     "base_uri": "https://localhost:8080/",
     "height": 49,
     "referenced_widgets": [
      "59b96392621b44349a8b2437b283d9ff",
      "cd43f34f7cec4021ac5544ae09f17bd1",
      "34366ba3f6504913a0d56613924b672c",
      "0327b79f930048fbb4829d89c5de2510",
      "f68994fd22a746b889cf0d173feb15a8",
      "11f49577154541c7885dd2ddf791b8cd",
      "75621d53197e4875a3bfcba987563e12",
      "d2012490b12c49c0adaba8d724bda4ee",
      "030fe34d65754469837115ffd02d5142",
      "c23f5c1d6f34403dbeaf75b3c9400798",
      "9b576e178c7344269c5ce6e115ffd54c"
     ]
    },
    "id": "20b9de8e-ccb4-4889-9598-a64a9fbd6d04",
    "outputId": "b518890e-1399-4d18-ee96-a0cb03d10f9c"
   },
   "outputs": [],
   "source": [
    "\n",
    "def preprocess_function(examples):\n",
    "    # Use the computed max_length for consistent truncation and padding\n",
    "    return tokenizer(examples[\"text\"], truncation=True, padding=\"max_length\", max_length=192, pad_to_max_length=True)\n",
    "\n",
    "# Tokenize the entire dataset\n",
    "tokenized_dataset = dataset.map(preprocess_function, batched=True, remove_columns=[\"text\"])\n",
    "\n",
    "tokenized_dataset = tokenized_dataset.rename_column(\"label\", \"labels\")\n",
    "\n",
    "# Split into train and validation (e.g., 90% train, 10% validation)\n",
    "split_data = tokenized_dataset.train_test_split(test_size=0.1, seed=42)\n",
    "train_dataset = split_data[\"train\"]\n",
    "eval_dataset = split_data[\"test\"]\n"
   ]
  },
  {
   "cell_type": "markdown",
   "id": "cac7b46e-711b-4512-baf4-1036bebe5452",
   "metadata": {},
   "source": [
    "################################################################################\n",
    "## 5. Set Up the Model & Apply LoRA (PEFT)\n",
    "################################################################################"
   ]
  },
  {
   "cell_type": "code",
   "execution_count": 6,
   "id": "39649e42-a063-4954-ba8b-718bf040270f",
   "metadata": {
    "id": "39649e42-a063-4954-ba8b-718bf040270f"
   },
   "outputs": [],
   "source": [
    "\n",
    "\n",
    "# Use the already loaded model\n",
    "model = base_model  # Already loaded with config\n",
    "\n",
    "# Define label mappings\n",
    "id2label = {0: \"World\", 1: \"Sports\", 2: \"Business\", 3: \"Sci/Tech\"}\n",
    "model.config.id2label = id2label\n",
    "model.config.label2id = {v: k for k, v in id2label.items()}\n",
    "\n",
    "# LoRA config\n",
    "lora_config = LoraConfig(\n",
    "    r=10,\n",
    "    lora_alpha=28,\n",
    "    lora_dropout=0.5,\n",
    "    bias=\"none\",\n",
    "    target_modules=[\"query\", \"key\"],\n",
    "    task_type=\"SEQ_CLS\"\n",
    ")\n",
    "\n",
    "# Wrap with LoRA\n",
    "peft_model = get_peft_model(model, lora_config)\n",
    "peft_model.config.id2label = id2label\n",
    "peft_model.config.label2id = {v: k for k, v in id2label.items()}\n",
    "\n",
    "# Add label_names if missing\n",
    "if not hasattr(peft_model, \"label_names\"):\n",
    "    peft_model.label_names = [\"labels\"]\n",
    "\n",
    "\n",
    "# Add label smoothing loss\n",
    "class CustomTrainer(Trainer):\n",
    "    def compute_loss(self, model, inputs, return_outputs=False):\n",
    "        labels = inputs.pop(\"labels\")\n",
    "        outputs = model(**inputs)\n",
    "        logits = outputs.logits\n",
    "        loss_fct = nn.CrossEntropyLoss(label_smoothing=0.15)\n",
    "        loss = loss_fct(logits, labels)\n",
    "        return (loss, outputs) if return_outputs else loss\n"
   ]
  },
  {
   "cell_type": "markdown",
   "id": "59d6e377",
   "metadata": {
    "id": "59d6e377"
   },
   "source": [
    "################################################################################\n",
    "# 6. Define the Compute Metrics Function\n",
    "################################################################################"
   ]
  },
  {
   "cell_type": "code",
   "execution_count": 7,
   "id": "21f42747-f551-40a5-a95f-7affb1eba4a3",
   "metadata": {
    "id": "21f42747-f551-40a5-a95f-7affb1eba4a3"
   },
   "outputs": [],
   "source": [
    "\n",
    "def compute_metrics(eval_pred):\n",
    "    logits, labels = eval_pred\n",
    "    preds = logits.argmax(axis=-1)\n",
    "    acc = accuracy_score(labels, preds)\n",
    "    return {\"accuracy\": acc}\n",
    "\n"
   ]
  },
  {
   "cell_type": "markdown",
   "id": "92935919-25b3-42c7-ba5a-04279b34a1e9",
   "metadata": {},
   "source": [
    "################################################################################\n",
    "## 7. Data Collator and TrainingArguments Setup\n",
    "################################################################################"
   ]
  },
  {
   "cell_type": "code",
   "execution_count": 8,
   "id": "503a80c7-7e7c-4023-8045-62cfcd65b002",
   "metadata": {
    "colab": {
     "base_uri": "https://localhost:8080/"
    },
    "id": "503a80c7-7e7c-4023-8045-62cfcd65b002",
    "outputId": "40a121fb-4817-435e-d7bf-ecf2299b26e6"
   },
   "outputs": [
    {
     "name": "stdout",
     "output_type": "stream",
     "text": [
      "Total parameters:       125,611,016\n",
      "Trainable parameters:   962,308\n",
      "Trainable % of total:   0.77%\n"
     ]
    }
   ],
   "source": [
    "\n",
    "data_collator = DataCollatorWithPadding(tokenizer=tokenizer)\n",
    "\n",
    "training_args = TrainingArguments(\n",
    "    output_dir=\"results\",\n",
    "    logging_steps=50,\n",
    "    save_strategy=\"no\",\n",
    "    eval_strategy=\"steps\",           # ✅ try this instead of evaluation_strategy\n",
    "    eval_steps=200,\n",
    "    learning_rate=2e-5,\n",
    "    lr_scheduler_type=\"cosine\",\n",
    "    warmup_ratio=0.15,\n",
    "    weight_decay=0.05,\n",
    "    per_device_train_batch_size=16,\n",
    "    per_device_eval_batch_size=32,\n",
    "    num_train_epochs=4,\n",
    "    seed=42,\n",
    "    optim=\"adamw_torch\",\n",
    "    gradient_accumulation_steps=2,\n",
    "    fp16=True,\n",
    "    report_to=[]\n",
    ")\n",
    "\n",
    "\n",
    "\n",
    "# Count total vs. trainable parameters\n",
    "total_params = sum(p.numel() for p in peft_model.parameters())\n",
    "trainable_params = sum(p.numel() for p in peft_model.parameters() if p.requires_grad)\n",
    "print(f\"Total parameters:       {total_params:,}\")\n",
    "print(f\"Trainable parameters:   {trainable_params:,}\")\n",
    "print(f\"Trainable % of total:   {trainable_params/total_params*100:.2f}%\")\n"
   ]
  },
  {
   "cell_type": "markdown",
   "id": "a8f8b4aa-07b6-4e74-b616-11e024ed930b",
   "metadata": {
    "id": "f7589714-7907-4ed3-be8d-d1ae242978be"
   },
   "source": [
    "################################################################################\n",
    "## 8. Initialize Trainer and Begin Training\n",
    "################################################################################"
   ]
  },
  {
   "cell_type": "code",
   "execution_count": 9,
   "id": "e67b5523-9949-4aa4-ae2a-0a25fac1efaf",
   "metadata": {
    "colab": {
     "base_uri": "https://localhost:8080/",
     "height": 1000
    },
    "id": "e67b5523-9949-4aa4-ae2a-0a25fac1efaf",
    "outputId": "b5b49e18-c1b8-4507-85ae-29b7cefb613c",
    "scrolled": true
   },
   "outputs": [
    {
     "name": "stderr",
     "output_type": "stream",
     "text": [
      "No label_names provided for model class `PeftModelForSequenceClassification`. Since `PeftModel` hides base models input arguments, if label_names is not given, label_names can't be set automatically within `Trainer`. Note that empty label_names list will be used instead.\n"
     ]
    },
    {
     "name": "stdout",
     "output_type": "stream",
     "text": [
      "Starting training...\n"
     ]
    },
    {
     "data": {
      "text/html": [
       "\n",
       "    <div>\n",
       "      \n",
       "      <progress value='6748' max='6748' style='width:300px; height:20px; vertical-align: middle;'></progress>\n",
       "      [6748/6748 41:52, Epoch 3/4]\n",
       "    </div>\n",
       "    <table border=\"1\" class=\"dataframe\">\n",
       "  <thead>\n",
       " <tr style=\"text-align: left;\">\n",
       "      <th>Step</th>\n",
       "      <th>Training Loss</th>\n",
       "      <th>Validation Loss</th>\n",
       "      <th>Accuracy</th>\n",
       "    </tr>\n",
       "  </thead>\n",
       "  <tbody>\n",
       "    <tr>\n",
       "      <td>200</td>\n",
       "      <td>1.386600</td>\n",
       "      <td>1.383629</td>\n",
       "      <td>0.252833</td>\n",
       "    </tr>\n",
       "    <tr>\n",
       "      <td>400</td>\n",
       "      <td>1.364800</td>\n",
       "      <td>1.362271</td>\n",
       "      <td>0.524167</td>\n",
       "    </tr>\n",
       "    <tr>\n",
       "      <td>600</td>\n",
       "      <td>1.258300</td>\n",
       "      <td>1.211203</td>\n",
       "      <td>0.874083</td>\n",
       "    </tr>\n",
       "    <tr>\n",
       "      <td>800</td>\n",
       "      <td>0.540900</td>\n",
       "      <td>0.419166</td>\n",
       "      <td>0.887500</td>\n",
       "    </tr>\n",
       "    <tr>\n",
       "      <td>1000</td>\n",
       "      <td>0.365600</td>\n",
       "      <td>0.317233</td>\n",
       "      <td>0.896750</td>\n",
       "    </tr>\n",
       "    <tr>\n",
       "      <td>1200</td>\n",
       "      <td>0.336500</td>\n",
       "      <td>0.301301</td>\n",
       "      <td>0.900083</td>\n",
       "    </tr>\n",
       "    <tr>\n",
       "      <td>1400</td>\n",
       "      <td>0.295900</td>\n",
       "      <td>0.292534</td>\n",
       "      <td>0.902500</td>\n",
       "    </tr>\n",
       "    <tr>\n",
       "      <td>1600</td>\n",
       "      <td>0.307800</td>\n",
       "      <td>0.286234</td>\n",
       "      <td>0.904250</td>\n",
       "    </tr>\n",
       "    <tr>\n",
       "      <td>1800</td>\n",
       "      <td>0.292500</td>\n",
       "      <td>0.280974</td>\n",
       "      <td>0.906083</td>\n",
       "    </tr>\n",
       "    <tr>\n",
       "      <td>2000</td>\n",
       "      <td>0.277900</td>\n",
       "      <td>0.277695</td>\n",
       "      <td>0.907500</td>\n",
       "    </tr>\n",
       "    <tr>\n",
       "      <td>2200</td>\n",
       "      <td>0.282100</td>\n",
       "      <td>0.272613</td>\n",
       "      <td>0.908250</td>\n",
       "    </tr>\n",
       "    <tr>\n",
       "      <td>2400</td>\n",
       "      <td>0.289700</td>\n",
       "      <td>0.267707</td>\n",
       "      <td>0.909500</td>\n",
       "    </tr>\n",
       "    <tr>\n",
       "      <td>2600</td>\n",
       "      <td>0.277400</td>\n",
       "      <td>0.266850</td>\n",
       "      <td>0.909333</td>\n",
       "    </tr>\n",
       "    <tr>\n",
       "      <td>2800</td>\n",
       "      <td>0.263400</td>\n",
       "      <td>0.265310</td>\n",
       "      <td>0.910417</td>\n",
       "    </tr>\n",
       "    <tr>\n",
       "      <td>3000</td>\n",
       "      <td>0.280600</td>\n",
       "      <td>0.260527</td>\n",
       "      <td>0.910667</td>\n",
       "    </tr>\n",
       "    <tr>\n",
       "      <td>3200</td>\n",
       "      <td>0.274100</td>\n",
       "      <td>0.259440</td>\n",
       "      <td>0.910917</td>\n",
       "    </tr>\n",
       "    <tr>\n",
       "      <td>3400</td>\n",
       "      <td>0.256500</td>\n",
       "      <td>0.257857</td>\n",
       "      <td>0.911917</td>\n",
       "    </tr>\n",
       "    <tr>\n",
       "      <td>3600</td>\n",
       "      <td>0.257100</td>\n",
       "      <td>0.255478</td>\n",
       "      <td>0.912083</td>\n",
       "    </tr>\n",
       "    <tr>\n",
       "      <td>3800</td>\n",
       "      <td>0.262700</td>\n",
       "      <td>0.252893</td>\n",
       "      <td>0.912667</td>\n",
       "    </tr>\n",
       "    <tr>\n",
       "      <td>4000</td>\n",
       "      <td>0.271100</td>\n",
       "      <td>0.253013</td>\n",
       "      <td>0.912333</td>\n",
       "    </tr>\n",
       "    <tr>\n",
       "      <td>4200</td>\n",
       "      <td>0.254100</td>\n",
       "      <td>0.250406</td>\n",
       "      <td>0.912500</td>\n",
       "    </tr>\n",
       "    <tr>\n",
       "      <td>4400</td>\n",
       "      <td>0.268800</td>\n",
       "      <td>0.249579</td>\n",
       "      <td>0.912667</td>\n",
       "    </tr>\n",
       "    <tr>\n",
       "      <td>4600</td>\n",
       "      <td>0.249400</td>\n",
       "      <td>0.249195</td>\n",
       "      <td>0.913083</td>\n",
       "    </tr>\n",
       "    <tr>\n",
       "      <td>4800</td>\n",
       "      <td>0.255000</td>\n",
       "      <td>0.247740</td>\n",
       "      <td>0.914417</td>\n",
       "    </tr>\n",
       "    <tr>\n",
       "      <td>5000</td>\n",
       "      <td>0.234000</td>\n",
       "      <td>0.247656</td>\n",
       "      <td>0.914083</td>\n",
       "    </tr>\n",
       "    <tr>\n",
       "      <td>5200</td>\n",
       "      <td>0.256100</td>\n",
       "      <td>0.247644</td>\n",
       "      <td>0.914500</td>\n",
       "    </tr>\n",
       "    <tr>\n",
       "      <td>5400</td>\n",
       "      <td>0.240400</td>\n",
       "      <td>0.246968</td>\n",
       "      <td>0.914417</td>\n",
       "    </tr>\n",
       "    <tr>\n",
       "      <td>5600</td>\n",
       "      <td>0.244400</td>\n",
       "      <td>0.246464</td>\n",
       "      <td>0.915250</td>\n",
       "    </tr>\n",
       "    <tr>\n",
       "      <td>5800</td>\n",
       "      <td>0.241600</td>\n",
       "      <td>0.246709</td>\n",
       "      <td>0.914667</td>\n",
       "    </tr>\n",
       "    <tr>\n",
       "      <td>6000</td>\n",
       "      <td>0.269400</td>\n",
       "      <td>0.246414</td>\n",
       "      <td>0.915083</td>\n",
       "    </tr>\n",
       "    <tr>\n",
       "      <td>6200</td>\n",
       "      <td>0.242000</td>\n",
       "      <td>0.246305</td>\n",
       "      <td>0.915083</td>\n",
       "    </tr>\n",
       "    <tr>\n",
       "      <td>6400</td>\n",
       "      <td>0.265200</td>\n",
       "      <td>0.246164</td>\n",
       "      <td>0.915333</td>\n",
       "    </tr>\n",
       "    <tr>\n",
       "      <td>6600</td>\n",
       "      <td>0.276400</td>\n",
       "      <td>0.246139</td>\n",
       "      <td>0.915250</td>\n",
       "    </tr>\n",
       "  </tbody>\n",
       "</table><p>"
      ],
      "text/plain": [
       "<IPython.core.display.HTML object>"
      ]
     },
     "metadata": {},
     "output_type": "display_data"
    },
    {
     "name": "stdout",
     "output_type": "stream",
     "text": [
      "Training completed.\n"
     ]
    }
   ],
   "source": [
    "import warnings\n",
    "warnings.filterwarnings(\"ignore\")\n",
    "\n",
    "trainer = Trainer(\n",
    "    model=peft_model,\n",
    "    args=training_args,\n",
    "    train_dataset=train_dataset,\n",
    "    eval_dataset=eval_dataset,\n",
    "    data_collator=data_collator,\n",
    "    compute_metrics=compute_metrics,\n",
    "    tokenizer=tokenizer\n",
    ")\n",
    "\n",
    "\n",
    "print(\"Starting training...\")\n",
    "train_result = trainer.train()\n",
    "print(\"Training completed.\")\n"
   ]
  },
  {
   "cell_type": "markdown",
   "id": "27ed41b3-5c96-43a6-aa33-d9eba533f2ac",
   "metadata": {},
   "source": [
    "################################################################################\n",
    "## 9. Evaluate on the Validation Set\n",
    "################################################################################"
   ]
  },
  {
   "cell_type": "code",
   "execution_count": 10,
   "id": "bd0ca0ea-86b8-47f7-8cbf-83da25685876",
   "metadata": {
    "id": "bd0ca0ea-86b8-47f7-8cbf-83da25685876"
   },
   "outputs": [
    {
     "data": {
      "text/html": [],
      "text/plain": [
       "<IPython.core.display.HTML object>"
      ]
     },
     "metadata": {},
     "output_type": "display_data"
    },
    {
     "name": "stdout",
     "output_type": "stream",
     "text": [
      "Validation evaluation results:\n",
      "{'eval_loss': 0.2461387664079666, 'eval_accuracy': 0.91525, 'eval_runtime': 22.2561, 'eval_samples_per_second': 539.179, 'eval_steps_per_second': 8.447, 'epoch': 3.9979259259259257}\n"
     ]
    }
   ],
   "source": [
    "\n",
    "eval_result = trainer.evaluate()\n",
    "print(\"Validation evaluation results:\")\n",
    "print(eval_result)\n"
   ]
  },
  {
   "cell_type": "code",
   "execution_count": 11,
   "id": "3ce1d551-b3fa-45f0-99f5-1efd79e4d2db",
   "metadata": {
    "id": "3ce1d551-b3fa-45f0-99f5-1efd79e4d2db"
   },
   "outputs": [
    {
     "name": "stdout",
     "output_type": "stream",
     "text": [
      "Total parameters:       125,611,016\n",
      "Trainable parameters:   962,308\n",
      "Trainable % of total:   0.77%\n"
     ]
    }
   ],
   "source": [
    "# Count total vs. trainable parameters\n",
    "total_params = sum(p.numel() for p in peft_model.parameters())\n",
    "trainable_params = sum(p.numel() for p in peft_model.parameters() if p.requires_grad)\n",
    "\n",
    "print(f\"Total parameters:       {total_params:,}\")\n",
    "print(f\"Trainable parameters:   {trainable_params:,}\")\n",
    "print(f\"Trainable % of total:   {trainable_params/total_params*100:.2f}%\")\n"
   ]
  },
  {
   "cell_type": "markdown",
   "id": "b4c1c0df-06a7-45d3-9b2a-98f919e4fbd4",
   "metadata": {},
   "source": [
    "################################################################################\n",
    "## 10. Final Corrected Inference Block (Safe Type Handling)\n",
    "################################################################################"
   ]
  },
  {
   "cell_type": "code",
   "execution_count": 12,
   "id": "6ec2739d-76b6-4fde-91c2-0fc49e1884b0",
   "metadata": {
    "id": "6ec2739d-76b6-4fde-91c2-0fc49e1884b0",
    "scrolled": true
   },
   "outputs": [
    {
     "name": "stdout",
     "output_type": "stream",
     "text": [
      "test_df loaded\n",
      "Token lengths — mean: 64.4, std: 34.1\n"
     ]
    },
    {
     "data": {
      "application/vnd.jupyter.widget-view+json": {
       "model_id": "62a297cb56cb41918b397f6e575ccbb2",
       "version_major": 2,
       "version_minor": 0
      },
      "text/plain": [
       "Map:   0%|          | 0/8000 [00:00<?, ? examples/s]"
      ]
     },
     "metadata": {},
     "output_type": "display_data"
    },
    {
     "name": "stdout",
     "output_type": "stream",
     "text": [
      "submission.csv saved!\n"
     ]
    }
   ],
   "source": [
    "\n",
    "import traceback\n",
    "from datasets import Dataset as HFDataset\n",
    "\n",
    "try:\n",
    "    obj = pd.read_pickle(\"test_unlabelled.pkl\")\n",
    "    test_df = obj.to_pandas() if isinstance(obj, HFDataset) else obj\n",
    "    print(\"test_df loaded\")\n",
    "\n",
    "    if \"text\" not in test_df.columns:\n",
    "        raise ValueError(\"'text' column missing from test_df\")\n",
    "\n",
    "    lens = test_df[\"text\"].apply(lambda x: len(tokenizer(x)[\"input_ids\"]))\n",
    "    print(f\"Token lengths — mean: {lens.mean():.1f}, std: {lens.std():.1f}\")\n",
    "\n",
    "    hf_test = HFDataset.from_pandas(test_df)\n",
    "    hf_test = hf_test.map(lambda ex: tokenizer(ex[\"text\"], padding=\"max_length\", truncation=True, max_length=max_length), batched=True, remove_columns=[\"text\"])\n",
    "    preds = trainer.predict(hf_test).predictions.argmax(axis=-1)\n",
    "\n",
    "    ids = test_df[\"ID\"] if \"ID\" in test_df.columns else test_df[\"id\"] if \"id\" in test_df.columns else list(range(len(preds)))\n",
    "    submission = pd.DataFrame({\"ID\": ids, \"Labels\": preds})\n",
    "    submission.to_csv(\"submission.csv\", index=False)\n",
    "    print(\"submission.csv saved!\")\n",
    "\n",
    "except FileNotFoundError:\n",
    "    print(\"test_unlabelled.pkl not found.\")\n",
    "except Exception as e:\n",
    "    print(\"Unexpected error during test processing or inference:\")\n",
    "    traceback.print_exc()\n"
   ]
  },
  {
   "cell_type": "markdown",
   "id": "eddbfedd-de2d-454e-be6c-854cc716ab50",
   "metadata": {},
   "source": [
    "################################################################################\n",
    "## 11. Plots and Confusion Matrix\n",
    "################################################################################"
   ]
  },
  {
   "cell_type": "code",
   "execution_count": 13,
   "id": "a769f54e-05ad-4e3c-aae8-d00d1d9dfb2f",
   "metadata": {
    "id": "a769f54e-05ad-4e3c-aae8-d00d1d9dfb2f"
   },
   "outputs": [
    {
     "data": {
      "image/png": "[encoded data removed]",
      "text/plain": [
       "<Figure size 800x500 with 1 Axes>"
      ]
     },
     "metadata": {},
     "output_type": "display_data"
    },
    {
     "data": {
      "image/png": "[encoded data removed]",
      "text/plain": [
       "<Figure size 800x500 with 1 Axes>"
      ]
     },
     "metadata": {},
     "output_type": "display_data"
    }
   ],
   "source": [
    "import matplotlib.pyplot as plt\n",
    "\n",
    "# Extract logs\n",
    "logs = trainer.state.log_history\n",
    "steps = [log[\"step\"] for log in logs if \"loss\" in log]\n",
    "losses = [log[\"loss\"] for log in logs if \"loss\" in log]\n",
    "eval_steps = [log[\"step\"] for log in logs if \"eval_loss\" in log]\n",
    "eval_accuracies = [log[\"eval_accuracy\"] for log in logs if \"eval_accuracy\" in log]\n",
    "\n",
    "# Plot training loss\n",
    "plt.figure(figsize=(8, 5))\n",
    "plt.plot(steps, losses, label='Training Loss')\n",
    "plt.xlabel(\"Step\")\n",
    "plt.ylabel(\"Loss\")\n",
    "plt.title(\"Training Loss Over Steps\")\n",
    "plt.grid()\n",
    "plt.legend()\n",
    "plt.show()\n",
    "\n",
    "# Plot eval accuracy\n",
    "plt.figure(figsize=(8, 5))\n",
    "plt.plot(eval_steps, eval_accuracies, color='green', label='Eval Accuracy')\n",
    "plt.xlabel(\"Step\")\n",
    "plt.ylabel(\"Accuracy\")\n",
    "plt.title(\"Evaluation Accuracy Over Steps\")\n",
    "plt.grid()\n",
    "plt.legend()\n",
    "plt.show()\n"
   ]
  },
  {
   "cell_type": "code",
   "execution_count": 14,
   "id": "da45f85c-b016-4c49-8808-6eafa7cb5d1b",
   "metadata": {
    "id": "da45f85c-b016-4c49-8808-6eafa7cb5d1b"
   },
   "outputs": [
    {
     "data": {
      "text/html": [],
      "text/plain": [
       "<IPython.core.display.HTML object>"
      ]
     },
     "metadata": {},
     "output_type": "display_data"
    },
    {
     "data": {
      "image/png": "[encoded data removed]",
      "text/plain": [
       "<Figure size 640x480 with 2 Axes>"
      ]
     },
     "metadata": {},
     "output_type": "display_data"
    }
   ],
   "source": [
    "from sklearn.metrics import confusion_matrix, ConfusionMatrixDisplay\n",
    "\n",
    "preds = trainer.predict(eval_dataset).predictions.argmax(-1)\n",
    "labels = eval_dataset[\"labels\"]\n",
    "cm = confusion_matrix(labels, preds)\n",
    "disp = ConfusionMatrixDisplay(confusion_matrix=cm, display_labels=id2label.values())\n",
    "disp.plot(xticks_rotation=45)\n",
    "plt.title(\"Confusion Matrix on Validation Set\")\n",
    "plt.show()\n",
    "\n"
   ]
  }
 ],
 "metadata": {
  "accelerator": "GPU",
  "colab": {
   "gpuType": "T4",
   "provenance": []
  },
  "kernelspec": {
   "display_name": "Python 3 (ipykernel)",
   "language": "python",
   "name": "python3"
  },
  "language_info": {
   "codemirror_mode": {
    "name": "ipython",
    "version": 3
   },
   "file_extension": ".py",
   "mimetype": "text/x-python",
   "name": "python",
   "nbconvert_exporter": "python",
   "pygments_lexer": "ipython3",
   "version": "3.9.18"
  }
 },
 "nbformat": 4,
 "nbformat_minor": 5
}
